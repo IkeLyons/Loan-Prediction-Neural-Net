{
  "nbformat": 4,
  "nbformat_minor": 0,
  "metadata": {
    "colab": {
      "name": "WineQualityNeuralNet.ipynb",
      "provenance": [],
      "collapsed_sections": [],
      "toc_visible": true,
      "mount_file_id": "1ux4PonF2_N7MXVea7QbGF4Zqfz0CK3ic",
      "authorship_tag": "ABX9TyPJQDovHkeh6h2OQx/5Pt0n",
      "include_colab_link": true
    },
    "kernelspec": {
      "name": "python3",
      "display_name": "Python 3"
    },
    "language_info": {
      "name": "python"
    }
  },
  "cells": [
    {
      "cell_type": "markdown",
      "metadata": {
        "id": "view-in-github",
        "colab_type": "text"
      },
      "source": [
        "<a href=\"https://colab.research.google.com/github/IkeLyons/Wine-Quality-Neural-Net/blob/main/WineQualityNeuralNet.ipynb\" target=\"_parent\"><img src=\"https://colab.research.google.com/assets/colab-badge.svg\" alt=\"Open In Colab\"/></a>"
      ]
    },
    {
      "cell_type": "markdown",
      "metadata": {
        "id": "BhbdYEjtC9dY"
      },
      "source": [
        "# Resources Used"
      ]
    },
    {
      "cell_type": "markdown",
      "metadata": {
        "id": "ttIN4IB8NkYm"
      },
      "source": [
        "https://www.educative.io/blog/one-hot-encoding\n",
        "\n",
        "I decided to use one hot encoding in my project as I wanted the neural net to try to get the rating exactly correct to what the reviewers had, and wanted the neural net to see the 10 different ratings as \"categories\". The revieweres seemed to use the same numbers often, and I wanted my neural net to mimic their behavior as closely as possible\n",
        "\n",
        "https://www.tensorflow.org/api_docs/python/tf/Variable\n",
        "https://www.tensorflow.org/guide/variable\n",
        "\n",
        "The tensorflow variable is a crucial resource that I am using from the tensorflow library. They are used to represent the weights and bias layers and can be connected together to form the whole neural network.\n",
        "\n",
        "\n",
        "https://www.tensorflow.org/api_docs/python/tf/random/truncated_normal\n",
        "\n",
        "This is the resource I used in order to initialize the weights of my hidden layer. I used this resource because as we learned you cannot initalize the values to 0, and this random inializer is tensorflows recommended initializer method for Neural Netowrk weights. \n",
        "\n",
        "https://www.tensorflow.org/api_docs/python/tf/linalg/matmul\n",
        "\n",
        "Matmul is used in order to multiply matricies. I used this resource when I was \"connecting\" the layers by finding \"z = W x A + b\" in combination with the activiation function.\n",
        "\n",
        "https://www.tensorflow.org/api_docs/python/tf/nn\n",
        "\n",
        "I used the tensorflow nn package for multiple different neural net related math operations. Namely, I used the sigmoid (as well as relu and tanh during testing) and softmax cross entropy functions. These were required for the activiation function and the loss function.\n",
        "\n",
        "https://www.tensorflow.org/api_docs/python/tf/compat/v1/train/AdamOptimizer\n",
        "\n",
        "I used the tensorflow train resource for different optimization algorithms and eventually settled on using the adam optimizer."
      ]
    },
    {
      "cell_type": "markdown",
      "metadata": {
        "id": "tSMNzEXVFJgb"
      },
      "source": [
        "# Data seleection and importing"
      ]
    },
    {
      "cell_type": "markdown",
      "metadata": {
        "id": "l1zxmCC5FNrq"
      },
      "source": [
        "In this project we are going to attempt to predict the quality of white wines on a scale of 1 to 10. The dataset includes a number of chemical indicators that might be useful in determining the quality of a white wine."
      ]
    },
    {
      "cell_type": "code",
      "metadata": {
        "colab": {
          "base_uri": "https://localhost:8080/"
        },
        "id": "7wAMevRY00TE",
        "outputId": "7f5b4353-0e16-49ef-97be-8422fbc50aeb"
      },
      "source": [
        "! pip install kaggle"
      ],
      "execution_count": null,
      "outputs": [
        {
          "output_type": "stream",
          "name": "stdout",
          "text": [
            "Requirement already satisfied: kaggle in /usr/local/lib/python3.7/dist-packages (1.5.12)\n",
            "Requirement already satisfied: six>=1.10 in /usr/local/lib/python3.7/dist-packages (from kaggle) (1.15.0)\n",
            "Requirement already satisfied: python-slugify in /usr/local/lib/python3.7/dist-packages (from kaggle) (5.0.2)\n",
            "Requirement already satisfied: urllib3 in /usr/local/lib/python3.7/dist-packages (from kaggle) (1.24.3)\n",
            "Requirement already satisfied: certifi in /usr/local/lib/python3.7/dist-packages (from kaggle) (2021.5.30)\n",
            "Requirement already satisfied: python-dateutil in /usr/local/lib/python3.7/dist-packages (from kaggle) (2.8.2)\n",
            "Requirement already satisfied: tqdm in /usr/local/lib/python3.7/dist-packages (from kaggle) (4.62.3)\n",
            "Requirement already satisfied: requests in /usr/local/lib/python3.7/dist-packages (from kaggle) (2.23.0)\n",
            "Requirement already satisfied: text-unidecode>=1.3 in /usr/local/lib/python3.7/dist-packages (from python-slugify->kaggle) (1.3)\n",
            "Requirement already satisfied: idna<3,>=2.5 in /usr/local/lib/python3.7/dist-packages (from requests->kaggle) (2.10)\n",
            "Requirement already satisfied: chardet<4,>=3.0.2 in /usr/local/lib/python3.7/dist-packages (from requests->kaggle) (3.0.4)\n"
          ]
        }
      ]
    },
    {
      "cell_type": "code",
      "metadata": {
        "colab": {
          "base_uri": "https://localhost:8080/"
        },
        "id": "rkuUcgnw5XZj",
        "outputId": "5aede17c-cede-4894-aea0-2e5a97be6189"
      },
      "source": [
        "! mkdir ~/.kaggle"
      ],
      "execution_count": null,
      "outputs": [
        {
          "output_type": "stream",
          "name": "stdout",
          "text": [
            "mkdir: cannot create directory ‘/root/.kaggle’: File exists\n"
          ]
        }
      ]
    },
    {
      "cell_type": "code",
      "metadata": {
        "id": "XjcdXgvz5ZXe"
      },
      "source": [
        "! cp /content/drive/MyDrive/kaggle.json ~/.kaggle/kaggle.json"
      ],
      "execution_count": null,
      "outputs": []
    },
    {
      "cell_type": "code",
      "metadata": {
        "colab": {
          "base_uri": "https://localhost:8080/"
        },
        "id": "MMnM1vqv5cme",
        "outputId": "24a29075-92c8-4d8d-e85b-a49c63f64c6e"
      },
      "source": [
        "! kaggle datasets download brendan45774/wine-quality"
      ],
      "execution_count": null,
      "outputs": [
        {
          "output_type": "stream",
          "name": "stdout",
          "text": [
            "wine-quality.zip: Skipping, found more recently modified local copy (use --force to force download)\n"
          ]
        }
      ]
    },
    {
      "cell_type": "code",
      "metadata": {
        "colab": {
          "base_uri": "https://localhost:8080/"
        },
        "id": "hmP-OVB45nJB",
        "outputId": "8048dd82-4313-410c-b784-338b89391533"
      },
      "source": [
        "! unzip wine-quality.zip"
      ],
      "execution_count": null,
      "outputs": [
        {
          "output_type": "stream",
          "name": "stdout",
          "text": [
            "Archive:  wine-quality.zip\n",
            "replace winequality-red.csv? [y]es, [n]o, [A]ll, [N]one, [r]ename: n\n",
            "replace winequality-white.csv? [y]es, [n]o, [A]ll, [N]one, [r]ename: n\n"
          ]
        }
      ]
    },
    {
      "cell_type": "code",
      "metadata": {
        "colab": {
          "base_uri": "https://localhost:8080/",
          "height": 241
        },
        "id": "QOeKAAtB6RQO",
        "outputId": "6b5f7a48-9682-40ac-cfc0-962709bcb9c7"
      },
      "source": [
        "import pandas as pd\n",
        "dataset = pd.read_csv('winequality-white.csv', encoding='utf-8', sep=\";\")\n",
        "dataset.head()"
      ],
      "execution_count": null,
      "outputs": [
        {
          "output_type": "execute_result",
          "data": {
            "text/html": [
              "<div>\n",
              "<style scoped>\n",
              "    .dataframe tbody tr th:only-of-type {\n",
              "        vertical-align: middle;\n",
              "    }\n",
              "\n",
              "    .dataframe tbody tr th {\n",
              "        vertical-align: top;\n",
              "    }\n",
              "\n",
              "    .dataframe thead th {\n",
              "        text-align: right;\n",
              "    }\n",
              "</style>\n",
              "<table border=\"1\" class=\"dataframe\">\n",
              "  <thead>\n",
              "    <tr style=\"text-align: right;\">\n",
              "      <th></th>\n",
              "      <th>fixed acidity</th>\n",
              "      <th>volatile acidity</th>\n",
              "      <th>citric acid</th>\n",
              "      <th>residual sugar</th>\n",
              "      <th>chlorides</th>\n",
              "      <th>free sulfur dioxide</th>\n",
              "      <th>total sulfur dioxide</th>\n",
              "      <th>density</th>\n",
              "      <th>pH</th>\n",
              "      <th>sulphates</th>\n",
              "      <th>alcohol</th>\n",
              "      <th>quality</th>\n",
              "    </tr>\n",
              "  </thead>\n",
              "  <tbody>\n",
              "    <tr>\n",
              "      <th>0</th>\n",
              "      <td>7.0</td>\n",
              "      <td>0.27</td>\n",
              "      <td>0.36</td>\n",
              "      <td>20.7</td>\n",
              "      <td>0.045</td>\n",
              "      <td>45.0</td>\n",
              "      <td>170.0</td>\n",
              "      <td>1.0010</td>\n",
              "      <td>3.00</td>\n",
              "      <td>0.45</td>\n",
              "      <td>8.8</td>\n",
              "      <td>6</td>\n",
              "    </tr>\n",
              "    <tr>\n",
              "      <th>1</th>\n",
              "      <td>6.3</td>\n",
              "      <td>0.30</td>\n",
              "      <td>0.34</td>\n",
              "      <td>1.6</td>\n",
              "      <td>0.049</td>\n",
              "      <td>14.0</td>\n",
              "      <td>132.0</td>\n",
              "      <td>0.9940</td>\n",
              "      <td>3.30</td>\n",
              "      <td>0.49</td>\n",
              "      <td>9.5</td>\n",
              "      <td>6</td>\n",
              "    </tr>\n",
              "    <tr>\n",
              "      <th>2</th>\n",
              "      <td>8.1</td>\n",
              "      <td>0.28</td>\n",
              "      <td>0.40</td>\n",
              "      <td>6.9</td>\n",
              "      <td>0.050</td>\n",
              "      <td>30.0</td>\n",
              "      <td>97.0</td>\n",
              "      <td>0.9951</td>\n",
              "      <td>3.26</td>\n",
              "      <td>0.44</td>\n",
              "      <td>10.1</td>\n",
              "      <td>6</td>\n",
              "    </tr>\n",
              "    <tr>\n",
              "      <th>3</th>\n",
              "      <td>7.2</td>\n",
              "      <td>0.23</td>\n",
              "      <td>0.32</td>\n",
              "      <td>8.5</td>\n",
              "      <td>0.058</td>\n",
              "      <td>47.0</td>\n",
              "      <td>186.0</td>\n",
              "      <td>0.9956</td>\n",
              "      <td>3.19</td>\n",
              "      <td>0.40</td>\n",
              "      <td>9.9</td>\n",
              "      <td>6</td>\n",
              "    </tr>\n",
              "    <tr>\n",
              "      <th>4</th>\n",
              "      <td>7.2</td>\n",
              "      <td>0.23</td>\n",
              "      <td>0.32</td>\n",
              "      <td>8.5</td>\n",
              "      <td>0.058</td>\n",
              "      <td>47.0</td>\n",
              "      <td>186.0</td>\n",
              "      <td>0.9956</td>\n",
              "      <td>3.19</td>\n",
              "      <td>0.40</td>\n",
              "      <td>9.9</td>\n",
              "      <td>6</td>\n",
              "    </tr>\n",
              "  </tbody>\n",
              "</table>\n",
              "</div>"
            ],
            "text/plain": [
              "   fixed acidity  volatile acidity  citric acid  ...  sulphates  alcohol  quality\n",
              "0            7.0              0.27         0.36  ...       0.45      8.8        6\n",
              "1            6.3              0.30         0.34  ...       0.49      9.5        6\n",
              "2            8.1              0.28         0.40  ...       0.44     10.1        6\n",
              "3            7.2              0.23         0.32  ...       0.40      9.9        6\n",
              "4            7.2              0.23         0.32  ...       0.40      9.9        6\n",
              "\n",
              "[5 rows x 12 columns]"
            ]
          },
          "metadata": {},
          "execution_count": 21
        }
      ]
    },
    {
      "cell_type": "markdown",
      "metadata": {
        "id": "io1UCooK8_U7"
      },
      "source": [
        "# Exploratory Data Analysis"
      ]
    },
    {
      "cell_type": "code",
      "metadata": {
        "colab": {
          "base_uri": "https://localhost:8080/"
        },
        "id": "hy5kuQcj9bYt",
        "outputId": "9412b73c-64a5-408d-acff-9a13d7cf008c"
      },
      "source": [
        "dataset.shape"
      ],
      "execution_count": null,
      "outputs": [
        {
          "output_type": "execute_result",
          "data": {
            "text/plain": [
              "(4898, 12)"
            ]
          },
          "metadata": {},
          "execution_count": 22
        }
      ]
    },
    {
      "cell_type": "code",
      "metadata": {
        "colab": {
          "base_uri": "https://localhost:8080/"
        },
        "id": "q1uYqH6n9fEp",
        "outputId": "a5e89938-1112-4ded-8d6f-656e1ecd253a"
      },
      "source": [
        "dataset.isnull().sum()"
      ],
      "execution_count": null,
      "outputs": [
        {
          "output_type": "execute_result",
          "data": {
            "text/plain": [
              "fixed acidity           0\n",
              "volatile acidity        0\n",
              "citric acid             0\n",
              "residual sugar          0\n",
              "chlorides               0\n",
              "free sulfur dioxide     0\n",
              "total sulfur dioxide    0\n",
              "density                 0\n",
              "pH                      0\n",
              "sulphates               0\n",
              "alcohol                 0\n",
              "quality                 0\n",
              "dtype: int64"
            ]
          },
          "metadata": {},
          "execution_count": 23
        }
      ]
    },
    {
      "cell_type": "code",
      "metadata": {
        "colab": {
          "base_uri": "https://localhost:8080/",
          "height": 355
        },
        "id": "asajxKaz9tRm",
        "outputId": "c62ec971-2a1f-4842-fc79-3c291a581e70"
      },
      "source": [
        "dataset.describe()"
      ],
      "execution_count": null,
      "outputs": [
        {
          "output_type": "execute_result",
          "data": {
            "text/html": [
              "<div>\n",
              "<style scoped>\n",
              "    .dataframe tbody tr th:only-of-type {\n",
              "        vertical-align: middle;\n",
              "    }\n",
              "\n",
              "    .dataframe tbody tr th {\n",
              "        vertical-align: top;\n",
              "    }\n",
              "\n",
              "    .dataframe thead th {\n",
              "        text-align: right;\n",
              "    }\n",
              "</style>\n",
              "<table border=\"1\" class=\"dataframe\">\n",
              "  <thead>\n",
              "    <tr style=\"text-align: right;\">\n",
              "      <th></th>\n",
              "      <th>fixed acidity</th>\n",
              "      <th>volatile acidity</th>\n",
              "      <th>citric acid</th>\n",
              "      <th>residual sugar</th>\n",
              "      <th>chlorides</th>\n",
              "      <th>free sulfur dioxide</th>\n",
              "      <th>total sulfur dioxide</th>\n",
              "      <th>density</th>\n",
              "      <th>pH</th>\n",
              "      <th>sulphates</th>\n",
              "      <th>alcohol</th>\n",
              "      <th>quality</th>\n",
              "    </tr>\n",
              "  </thead>\n",
              "  <tbody>\n",
              "    <tr>\n",
              "      <th>count</th>\n",
              "      <td>4898.000000</td>\n",
              "      <td>4898.000000</td>\n",
              "      <td>4898.000000</td>\n",
              "      <td>4898.000000</td>\n",
              "      <td>4898.000000</td>\n",
              "      <td>4898.000000</td>\n",
              "      <td>4898.000000</td>\n",
              "      <td>4898.000000</td>\n",
              "      <td>4898.000000</td>\n",
              "      <td>4898.000000</td>\n",
              "      <td>4898.000000</td>\n",
              "      <td>4898.000000</td>\n",
              "    </tr>\n",
              "    <tr>\n",
              "      <th>mean</th>\n",
              "      <td>6.854788</td>\n",
              "      <td>0.278241</td>\n",
              "      <td>0.334192</td>\n",
              "      <td>6.391415</td>\n",
              "      <td>0.045772</td>\n",
              "      <td>35.308085</td>\n",
              "      <td>138.360657</td>\n",
              "      <td>0.994027</td>\n",
              "      <td>3.188267</td>\n",
              "      <td>0.489847</td>\n",
              "      <td>10.514267</td>\n",
              "      <td>5.877909</td>\n",
              "    </tr>\n",
              "    <tr>\n",
              "      <th>std</th>\n",
              "      <td>0.843868</td>\n",
              "      <td>0.100795</td>\n",
              "      <td>0.121020</td>\n",
              "      <td>5.072058</td>\n",
              "      <td>0.021848</td>\n",
              "      <td>17.007137</td>\n",
              "      <td>42.498065</td>\n",
              "      <td>0.002991</td>\n",
              "      <td>0.151001</td>\n",
              "      <td>0.114126</td>\n",
              "      <td>1.230621</td>\n",
              "      <td>0.885639</td>\n",
              "    </tr>\n",
              "    <tr>\n",
              "      <th>min</th>\n",
              "      <td>3.800000</td>\n",
              "      <td>0.080000</td>\n",
              "      <td>0.000000</td>\n",
              "      <td>0.600000</td>\n",
              "      <td>0.009000</td>\n",
              "      <td>2.000000</td>\n",
              "      <td>9.000000</td>\n",
              "      <td>0.987110</td>\n",
              "      <td>2.720000</td>\n",
              "      <td>0.220000</td>\n",
              "      <td>8.000000</td>\n",
              "      <td>3.000000</td>\n",
              "    </tr>\n",
              "    <tr>\n",
              "      <th>25%</th>\n",
              "      <td>6.300000</td>\n",
              "      <td>0.210000</td>\n",
              "      <td>0.270000</td>\n",
              "      <td>1.700000</td>\n",
              "      <td>0.036000</td>\n",
              "      <td>23.000000</td>\n",
              "      <td>108.000000</td>\n",
              "      <td>0.991723</td>\n",
              "      <td>3.090000</td>\n",
              "      <td>0.410000</td>\n",
              "      <td>9.500000</td>\n",
              "      <td>5.000000</td>\n",
              "    </tr>\n",
              "    <tr>\n",
              "      <th>50%</th>\n",
              "      <td>6.800000</td>\n",
              "      <td>0.260000</td>\n",
              "      <td>0.320000</td>\n",
              "      <td>5.200000</td>\n",
              "      <td>0.043000</td>\n",
              "      <td>34.000000</td>\n",
              "      <td>134.000000</td>\n",
              "      <td>0.993740</td>\n",
              "      <td>3.180000</td>\n",
              "      <td>0.470000</td>\n",
              "      <td>10.400000</td>\n",
              "      <td>6.000000</td>\n",
              "    </tr>\n",
              "    <tr>\n",
              "      <th>75%</th>\n",
              "      <td>7.300000</td>\n",
              "      <td>0.320000</td>\n",
              "      <td>0.390000</td>\n",
              "      <td>9.900000</td>\n",
              "      <td>0.050000</td>\n",
              "      <td>46.000000</td>\n",
              "      <td>167.000000</td>\n",
              "      <td>0.996100</td>\n",
              "      <td>3.280000</td>\n",
              "      <td>0.550000</td>\n",
              "      <td>11.400000</td>\n",
              "      <td>6.000000</td>\n",
              "    </tr>\n",
              "    <tr>\n",
              "      <th>max</th>\n",
              "      <td>14.200000</td>\n",
              "      <td>1.100000</td>\n",
              "      <td>1.660000</td>\n",
              "      <td>65.800000</td>\n",
              "      <td>0.346000</td>\n",
              "      <td>289.000000</td>\n",
              "      <td>440.000000</td>\n",
              "      <td>1.038980</td>\n",
              "      <td>3.820000</td>\n",
              "      <td>1.080000</td>\n",
              "      <td>14.200000</td>\n",
              "      <td>9.000000</td>\n",
              "    </tr>\n",
              "  </tbody>\n",
              "</table>\n",
              "</div>"
            ],
            "text/plain": [
              "       fixed acidity  volatile acidity  ...      alcohol      quality\n",
              "count    4898.000000       4898.000000  ...  4898.000000  4898.000000\n",
              "mean        6.854788          0.278241  ...    10.514267     5.877909\n",
              "std         0.843868          0.100795  ...     1.230621     0.885639\n",
              "min         3.800000          0.080000  ...     8.000000     3.000000\n",
              "25%         6.300000          0.210000  ...     9.500000     5.000000\n",
              "50%         6.800000          0.260000  ...    10.400000     6.000000\n",
              "75%         7.300000          0.320000  ...    11.400000     6.000000\n",
              "max        14.200000          1.100000  ...    14.200000     9.000000\n",
              "\n",
              "[8 rows x 12 columns]"
            ]
          },
          "metadata": {},
          "execution_count": 24
        }
      ]
    },
    {
      "cell_type": "markdown",
      "metadata": {
        "id": "g-0TeIH2OMw8"
      },
      "source": [
        "Apply Mean Normalization:"
      ]
    },
    {
      "cell_type": "code",
      "metadata": {
        "colab": {
          "base_uri": "https://localhost:8080/",
          "height": 241
        },
        "id": "wN7t5k00Na88",
        "outputId": "50117e13-3784-4529-cd72-20a4949b92d7"
      },
      "source": [
        "quality = dataset['quality']\n",
        "dataset=(dataset-dataset.mean())/dataset.std()\n",
        "dataset['quality'] = quality\n",
        "dataset.head()"
      ],
      "execution_count": null,
      "outputs": [
        {
          "output_type": "execute_result",
          "data": {
            "text/html": [
              "<div>\n",
              "<style scoped>\n",
              "    .dataframe tbody tr th:only-of-type {\n",
              "        vertical-align: middle;\n",
              "    }\n",
              "\n",
              "    .dataframe tbody tr th {\n",
              "        vertical-align: top;\n",
              "    }\n",
              "\n",
              "    .dataframe thead th {\n",
              "        text-align: right;\n",
              "    }\n",
              "</style>\n",
              "<table border=\"1\" class=\"dataframe\">\n",
              "  <thead>\n",
              "    <tr style=\"text-align: right;\">\n",
              "      <th></th>\n",
              "      <th>fixed acidity</th>\n",
              "      <th>volatile acidity</th>\n",
              "      <th>citric acid</th>\n",
              "      <th>residual sugar</th>\n",
              "      <th>chlorides</th>\n",
              "      <th>free sulfur dioxide</th>\n",
              "      <th>total sulfur dioxide</th>\n",
              "      <th>density</th>\n",
              "      <th>pH</th>\n",
              "      <th>sulphates</th>\n",
              "      <th>alcohol</th>\n",
              "      <th>quality</th>\n",
              "    </tr>\n",
              "  </thead>\n",
              "  <tbody>\n",
              "    <tr>\n",
              "      <th>0</th>\n",
              "      <td>0.172079</td>\n",
              "      <td>-0.081762</td>\n",
              "      <td>0.213258</td>\n",
              "      <td>2.821061</td>\n",
              "      <td>-0.035351</td>\n",
              "      <td>0.569873</td>\n",
              "      <td>0.744489</td>\n",
              "      <td>2.331274</td>\n",
              "      <td>-1.246794</td>\n",
              "      <td>-0.349149</td>\n",
              "      <td>-1.393010</td>\n",
              "      <td>6</td>\n",
              "    </tr>\n",
              "    <tr>\n",
              "      <th>1</th>\n",
              "      <td>-0.657434</td>\n",
              "      <td>0.215874</td>\n",
              "      <td>0.047996</td>\n",
              "      <td>-0.944669</td>\n",
              "      <td>0.147732</td>\n",
              "      <td>-1.252891</td>\n",
              "      <td>-0.149669</td>\n",
              "      <td>-0.009153</td>\n",
              "      <td>0.739953</td>\n",
              "      <td>0.001342</td>\n",
              "      <td>-0.824192</td>\n",
              "      <td>6</td>\n",
              "    </tr>\n",
              "    <tr>\n",
              "      <th>2</th>\n",
              "      <td>1.475600</td>\n",
              "      <td>0.017450</td>\n",
              "      <td>0.543783</td>\n",
              "      <td>0.100272</td>\n",
              "      <td>0.193503</td>\n",
              "      <td>-0.312109</td>\n",
              "      <td>-0.973236</td>\n",
              "      <td>0.358628</td>\n",
              "      <td>0.475053</td>\n",
              "      <td>-0.436771</td>\n",
              "      <td>-0.336633</td>\n",
              "      <td>6</td>\n",
              "    </tr>\n",
              "    <tr>\n",
              "      <th>3</th>\n",
              "      <td>0.409083</td>\n",
              "      <td>-0.478608</td>\n",
              "      <td>-0.117266</td>\n",
              "      <td>0.415726</td>\n",
              "      <td>0.559670</td>\n",
              "      <td>0.687471</td>\n",
              "      <td>1.120977</td>\n",
              "      <td>0.525802</td>\n",
              "      <td>0.011479</td>\n",
              "      <td>-0.787262</td>\n",
              "      <td>-0.499152</td>\n",
              "      <td>6</td>\n",
              "    </tr>\n",
              "    <tr>\n",
              "      <th>4</th>\n",
              "      <td>0.409083</td>\n",
              "      <td>-0.478608</td>\n",
              "      <td>-0.117266</td>\n",
              "      <td>0.415726</td>\n",
              "      <td>0.559670</td>\n",
              "      <td>0.687471</td>\n",
              "      <td>1.120977</td>\n",
              "      <td>0.525802</td>\n",
              "      <td>0.011479</td>\n",
              "      <td>-0.787262</td>\n",
              "      <td>-0.499152</td>\n",
              "      <td>6</td>\n",
              "    </tr>\n",
              "  </tbody>\n",
              "</table>\n",
              "</div>"
            ],
            "text/plain": [
              "   fixed acidity  volatile acidity  citric acid  ...  sulphates   alcohol  quality\n",
              "0       0.172079         -0.081762     0.213258  ...  -0.349149 -1.393010        6\n",
              "1      -0.657434          0.215874     0.047996  ...   0.001342 -0.824192        6\n",
              "2       1.475600          0.017450     0.543783  ...  -0.436771 -0.336633        6\n",
              "3       0.409083         -0.478608    -0.117266  ...  -0.787262 -0.499152        6\n",
              "4       0.409083         -0.478608    -0.117266  ...  -0.787262 -0.499152        6\n",
              "\n",
              "[5 rows x 12 columns]"
            ]
          },
          "metadata": {},
          "execution_count": 26
        }
      ]
    },
    {
      "cell_type": "markdown",
      "metadata": {
        "id": "vanV8yxAB0vy"
      },
      "source": [
        "# Train-Dev-Test Split"
      ]
    },
    {
      "cell_type": "code",
      "metadata": {
        "colab": {
          "base_uri": "https://localhost:8080/"
        },
        "id": "Acczq4uNCCXA",
        "outputId": "a05c9746-457e-4ce1-a93c-4a5491976b07"
      },
      "source": [
        "import numpy as np\n",
        "from sklearn.utils import shuffle\n",
        "from sklearn.model_selection import train_test_split \n",
        "\n",
        "num_features = dataset.shape[1]\n",
        "X = dataset[dataset.columns[0:num_features - 1]].values\n",
        "y = dataset[dataset.columns[num_features - 1]].values\n",
        "\n",
        "# one hot encoding\n",
        "encode = np.zeros((len(y), 10))\n",
        "encode[np.arange(len(y)), y] = 1\n",
        "y = encode\n",
        "print(y)\n",
        "\n",
        "X, y = shuffle(X, y, random_state=1)\n",
        "# train: 80%, val: 10%, test: 10%\n",
        "X_train, X_test, y_train, y_test = train_test_split(X, y, test_size=0.2, random_state=1)\n",
        "X_val, X_test, y_val, y_test = train_test_split(X_test, y_test, test_size=0.5, random_state=1) "
      ],
      "execution_count": null,
      "outputs": [
        {
          "output_type": "stream",
          "name": "stdout",
          "text": [
            "[[0. 0. 0. ... 0. 0. 0.]\n",
            " [0. 0. 0. ... 0. 0. 0.]\n",
            " [0. 0. 0. ... 0. 0. 0.]\n",
            " ...\n",
            " [0. 0. 0. ... 0. 0. 0.]\n",
            " [0. 0. 0. ... 1. 0. 0.]\n",
            " [0. 0. 0. ... 0. 0. 0.]]\n"
          ]
        }
      ]
    },
    {
      "cell_type": "markdown",
      "metadata": {
        "id": "XRcSudADKjRp"
      },
      "source": [
        "# Forward Propagation Implementation"
      ]
    },
    {
      "cell_type": "code",
      "metadata": {
        "colab": {
          "base_uri": "https://localhost:8080/"
        },
        "id": "o0OI0ACZUHFe",
        "outputId": "36699af7-76da-4fa8-82c4-0d60833c16eb"
      },
      "source": [
        "%tensorflow_version 1.x"
      ],
      "execution_count": null,
      "outputs": [
        {
          "output_type": "stream",
          "name": "stdout",
          "text": [
            "TensorFlow 1.x selected.\n"
          ]
        }
      ]
    },
    {
      "cell_type": "markdown",
      "metadata": {
        "id": "cH_kPJfz6I7Y"
      },
      "source": [
        "Also note that the hyperparameters are being defined here."
      ]
    },
    {
      "cell_type": "code",
      "metadata": {
        "id": "MdhGRwNZKvZO"
      },
      "source": [
        "import tensorflow as tf\n",
        "\n",
        "epochs = 250\n",
        "batchSize = 50\n",
        "learningRate = 0.01\n",
        "hiddenLayerSize = 26\n",
        "outputSize = 10\n",
        "num_features = X_train.shape[1]\n",
        "\n",
        "W1 = tf.Variable(tf.truncated_normal([hiddenLayerSize, num_features], dtype=tf.float32, name='Weights1', stddev=0.1))\n",
        "b1 = tf.Variable(tf.zeros([hiddenLayerSize], tf.float32), name='bias1')\n",
        "W2 = tf.Variable(tf.zeros([outputSize, hiddenLayerSize], tf.float32, name='Weights2'))\n",
        "b2 = tf.Variable(tf.zeros([outputSize], tf.float32), name='bias2')\n",
        "\n",
        "x = tf.placeholder(tf.float32, shape=[None, num_features], name='X')\n",
        "y = tf.placeholder(tf.float32, shape=[None, outputSize], name='Y')\n",
        "\n",
        "ConnectedHidden = tf.nn.sigmoid(tf.add(tf.matmul(x, W1, transpose_b=True), b1))\n",
        "output = tf.matmul(ConnectedHidden, W2, transpose_b=True) + b2"
      ],
      "execution_count": null,
      "outputs": []
    },
    {
      "cell_type": "markdown",
      "metadata": {
        "id": "0Agvv1dj0wMb"
      },
      "source": [
        "# Implementing Mini-Batch Gradient Descent and Computing Final Cost and Accuracy"
      ]
    },
    {
      "cell_type": "code",
      "metadata": {
        "colab": {
          "base_uri": "https://localhost:8080/"
        },
        "id": "Tw0nIOFT0zcl",
        "outputId": "4cb5b1fe-1988-4f77-e9e0-7c4367dc7162"
      },
      "source": [
        "loss = tf.reduce_mean(tf.nn.softmax_cross_entropy_with_logits(labels=y, logits=output), name='loss')\n",
        "optimizer = tf.train.AdamOptimizer(learning_rate=learningRate, name='Adam-op').minimize(loss)\n",
        "correct = tf.equal(tf.argmax(output, 1), tf.argmax(y, 1), name='correct_pred')\n",
        "accuracy = tf.reduce_mean(tf.cast(correct, tf.float32), name='accuracy')\n",
        "\n",
        "accuracyHistory = []\n",
        "lossHistory = []\n",
        "prediction = tf.argmax(output, axis=1, name='predictions')\n",
        "sess = tf.InteractiveSession()\n",
        "tf.global_variables_initializer().run()\n",
        "\n",
        "import numpy as np\n",
        "\n",
        "numIters = int(len(y_train) / batchSize)\n",
        "for epoch in range(epochs + 1):\n",
        "  X_train, y_train = shuffle(X_train, y_train, random_state=1)\n",
        "  for iter in range(numIters):\n",
        "    xBatch = X_train[iter * batchSize: (iter + 1) * batchSize]\n",
        "    yBatch = y_train[iter * batchSize: (iter + 1) * batchSize]\n",
        "\n",
        "    sess.run(optimizer, feed_dict={x: xBatch, y: yBatch})\n",
        "    loss_batch, acc_batch = sess.run([loss, accuracy], feed_dict={x: xBatch, y: yBatch})\n",
        "    accuracyHistory.append(acc_batch)\n",
        "    lossHistory.append(loss_batch)\n",
        "  if epoch % 50 == 0:\n",
        "      \n",
        "      print(\"--------------------------------------------------------\")\n",
        "      print(\"epoch {0:3d}:\\t Loss={1:.2f},\\tTraining Accuracy={2:.01%}\".format(epoch, loss_batch, acc_batch))\n",
        "      print(\"--------------------------------------------------------\")"
      ],
      "execution_count": null,
      "outputs": [
        {
          "output_type": "stream",
          "name": "stdout",
          "text": [
            "WARNING:tensorflow:From <ipython-input-30-a5751de8fe3b>:1: softmax_cross_entropy_with_logits (from tensorflow.python.ops.nn_ops) is deprecated and will be removed in a future version.\n",
            "Instructions for updating:\n",
            "\n",
            "Future major versions of TensorFlow will allow gradients to flow\n",
            "into the labels input on backprop by default.\n",
            "\n",
            "See `tf.nn.softmax_cross_entropy_with_logits_v2`.\n",
            "\n",
            "--------------------------------------------------------\n",
            "epoch   0:\t Loss=1.16,\tTraining Accuracy=44.0%\n",
            "--------------------------------------------------------\n",
            "--------------------------------------------------------\n",
            "epoch  50:\t Loss=1.12,\tTraining Accuracy=50.0%\n",
            "--------------------------------------------------------\n",
            "--------------------------------------------------------\n",
            "epoch 100:\t Loss=1.09,\tTraining Accuracy=52.0%\n",
            "--------------------------------------------------------\n",
            "--------------------------------------------------------\n",
            "epoch 150:\t Loss=0.96,\tTraining Accuracy=60.0%\n",
            "--------------------------------------------------------\n",
            "--------------------------------------------------------\n",
            "epoch 200:\t Loss=0.85,\tTraining Accuracy=54.0%\n",
            "--------------------------------------------------------\n",
            "--------------------------------------------------------\n",
            "epoch 250:\t Loss=0.84,\tTraining Accuracy=76.0%\n",
            "--------------------------------------------------------\n"
          ]
        }
      ]
    },
    {
      "cell_type": "markdown",
      "metadata": {
        "id": "Zab2y_cJICvA"
      },
      "source": [
        "# Presenting Results"
      ]
    },
    {
      "cell_type": "code",
      "metadata": {
        "id": "601FtGtwS_EP",
        "colab": {
          "base_uri": "https://localhost:8080/"
        },
        "outputId": "21088892-dcb7-4c4b-de80-8d8f377dc1c8"
      },
      "source": [
        "print(\"Valadation Accuracy: \", (sess.run(accuracy, feed_dict={x: X_val, y: y_val})))"
      ],
      "execution_count": null,
      "outputs": [
        {
          "output_type": "stream",
          "name": "stdout",
          "text": [
            "Valadation Accuracy:  0.5387755\n"
          ]
        }
      ]
    },
    {
      "cell_type": "markdown",
      "metadata": {
        "id": "2WL9vjx-TUu8"
      },
      "source": [
        "Only run the accuracy when you are done using the valadation data for making adjustments to the model"
      ]
    },
    {
      "cell_type": "code",
      "metadata": {
        "id": "PpWNwsa7TQgp",
        "colab": {
          "base_uri": "https://localhost:8080/"
        },
        "outputId": "e21e66c6-e8e3-449e-8e25-cd69db20fe59"
      },
      "source": [
        "print(\"Test Accuracy: \", (sess.run(accuracy, feed_dict={x: X_test, y: y_test})))"
      ],
      "execution_count": null,
      "outputs": [
        {
          "output_type": "stream",
          "name": "stdout",
          "text": [
            "Test Accuracy:  0.5367347\n"
          ]
        }
      ]
    },
    {
      "cell_type": "code",
      "metadata": {
        "colab": {
          "base_uri": "https://localhost:8080/",
          "height": 295
        },
        "id": "KOdzu9Q_D2WR",
        "outputId": "2c6e4948-48f0-46dc-f818-84499ecf0612"
      },
      "source": [
        "import matplotlib.pyplot as plt\n",
        "\n",
        "plt.plot(range(len(accuracyHistory)), accuracyHistory)\n",
        "plt.xlabel('Epochs')\n",
        "plt.ylabel('Precent Accuracy History ')\n",
        "plt.title(\"Accuracy History per Epoch\")\n",
        "plt.xlim(0, epochs + 10)\n",
        "plt.ylim(0, np.max(accuracyHistory)+0.1)\n",
        "plt.rcParams['figure.figsize'] = [12, 5]\n",
        "plt.show()"
      ],
      "execution_count": null,
      "outputs": [
        {
          "output_type": "display_data",
          "data": {
            "image/png": "[encoded data removed]",
            "text/plain": [
              "<Figure size 432x288 with 1 Axes>"
            ]
          },
          "metadata": {
            "needs_background": "light"
          }
        }
      ]
    },
    {
      "cell_type": "code",
      "metadata": {
        "colab": {
          "base_uri": "https://localhost:8080/",
          "height": 350
        },
        "id": "6jsfeOtXFboP",
        "outputId": "8ab1349d-2241-4fa0-ea9a-8af1d3a2c347"
      },
      "source": [
        "plt.plot(range(len(lossHistory)), lossHistory)\n",
        "plt.xlabel('Epochs')\n",
        "plt.ylabel('Loss')\n",
        "plt.title(\"loss per Epoch\")\n",
        "plt.xlim(0, epochs + 10)\n",
        "plt.ylim(0.4, np.max(lossHistory)+0.2)\n",
        "plt.rcParams['figure.figsize'] = [12, 5]\n",
        "plt.show()"
      ],
      "execution_count": null,
      "outputs": [
        {
          "output_type": "display_data",
          "data": {
            "image/png": "[encoded data removed]",
            "text/plain": [
              "<Figure size 864x360 with 1 Axes>"
            ]
          },
          "metadata": {
            "needs_background": "light"
          }
        }
      ]
    },
    {
      "cell_type": "markdown",
      "metadata": {
        "id": "ahYHUh7vMgAk"
      },
      "source": [
        "# Conclusion"
      ]
    },
    {
      "cell_type": "markdown",
      "metadata": {
        "id": "aa623t3POwis"
      },
      "source": [
        "I originally began without, and did a lot of my testing without any data regularization. I thought that the values were similar enough in scale for it to not make a difference. I then tested using it, and found that the minimum loss the neural net was acheiving was lower. I also found that the maximum accuracy increased. I think the reason the regularization made a difference was that some of th columns had values all between 0 and 1 whereas some were between 0-10. I didn't think this was a significant difference in scale but changing it slightly improved my model and thus I kept it."
      ]
    }
  ]
}